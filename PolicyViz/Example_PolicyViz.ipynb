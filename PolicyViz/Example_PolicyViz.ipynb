{
 "cells": [
  {
   "cell_type": "code",
   "execution_count": null,
   "metadata": {},
   "outputs": [],
   "source": [
    "# Include necessary packages\n",
    "# Allows you to edit and use PolicyViz.jl functions without restarting kernel.\n",
    "using Revise \n",
    "\n",
    "# PolicyViz custom module\n",
    "push!(LOAD_PATH,\".\")\n",
    "using PolicyViz"
   ]
  },
  {
   "cell_type": "markdown",
   "metadata": {},
   "source": [
    "## Visualize HorizontalCAS Policies\n",
    "#### Inputs: \n",
    "* **nnetPath** - path to the .nnet file you want to visualize.\n",
    "* **tablePath** - path to training data file\n",
    "* **nnetRect** - True if the neural network uses Cartesian (not polar) coordinates as inputs\n",
    "\n",
    "\n",
    "#### Outputs: Interactive Plots\n",
    "\n",
    "##### Interactive Settings:\n",
    "* **psi**: Intruder relative heading angle\n",
    "* **ownspeed**:   Ownship speed\n",
    "* **intrspeed**:   Intruder speed\n",
    "* **zoom**:    A zoom scaling factor used in plotting. 4 is most zoomed in, while 1 has no zoom\n",
    "* **nbin**:    The number of bins being plotted. Higher nbin means better resolution, but that takes longer to compute\n",
    "* **savePlot**:This option and the remaining options are used to format and generate .tex files of the plots. Set to true if you want to save the plot, but as a result the plots shown here will no longer continue to update. The switch can be toggled to true whenever you have a plot you want to save.\n",
    "* **xshift**:  Shift the plot in the x-direction by a number of kft\n",
    "* **yshift**:  Shift the plot in the y-direction by a number of kft\n",
    "* **xscale**:  Stretch the plot in the x-direction by some scaling factor\n",
    "* **yscale**:  Stretch the plot in the y-direction by some scaling factor"
   ]
  },
  {
   "cell_type": "code",
   "execution_count": null,
   "metadata": {
    "scrolled": false
   },
   "outputs": [],
   "source": [
    "nnetPath = \"../networks/HCAS_rect_v6_pra0_tau00_25HU_3000.nnet\"\n",
    "tablePath = \"../TrainingData/HCAS_rect_TrainingData_v6_pra0_tau00.h5\"\n",
    "viz_policy(nnetPath=nnetPath,tablePath=tablePath,nnetRect=true)"
   ]
  }
 ],
 "metadata": {
  "@webio": {
   "lastCommId": null,
   "lastKernelId": null
  },
  "kernelspec": {
   "display_name": "Julia 1.1.0",
   "language": "julia",
   "name": "julia-1.1"
  },
  "language_info": {
   "file_extension": ".jl",
   "mimetype": "application/julia",
   "name": "julia",
   "version": "1.1.0"
  },
  "widgets": {
   "state": {
    "0180d820-b6cd-40ba-ad7d-15bf23d08e8e": {
     "views": [
      {
       "cell_index": 3
      }
     ]
    },
    "051c7b5c-4aa5-4c8d-928b-6ecc60709ce8": {
     "views": [
      {
       "cell_index": 3
      }
     ]
    },
    "082fc525-87e0-4aa1-a205-f9d4144eee5b": {
     "views": [
      {
       "cell_index": 3
      }
     ]
    },
    "08350d6e-5c1c-45ff-8974-5b604d3cebcc": {
     "views": [
      {
       "cell_index": 3
      }
     ]
    },
    "08c1e863-6538-4a5e-a68a-d7a147902456": {
     "views": [
      {
       "cell_index": 3
      }
     ]
    },
    "096f8a35-15a8-44a9-9d97-4864813d8c4c": {
     "views": [
      {
       "cell_index": 3
      }
     ]
    },
    "099704ee-63bd-4e4b-aa91-bc336f7d69ce": {
     "views": [
      {
       "cell_index": 3
      }
     ]
    },
    "0a31053a-2be8-4608-9d69-eaae0c0573f6": {
     "views": [
      {
       "cell_index": 3
      }
     ]
    },
    "0b6ad54d-71a1-4453-a2d2-dca40c643fc4": {
     "views": [
      {
       "cell_index": 3
      }
     ]
    },
    "0bf6f89e-0bd5-4594-a982-895a491e355e": {
     "views": [
      {
       "cell_index": 3
      }
     ]
    },
    "0fb34f01-9406-457e-91af-2b7d7882f1e0": {
     "views": [
      {
       "cell_index": 3
      }
     ]
    },
    "11c13521-8aa6-47cd-b7d2-fdfbf5d80b20": {
     "views": [
      {
       "cell_index": 3
      }
     ]
    },
    "1261c69e-bbb0-4118-9cd2-2ac3f894c043": {
     "views": [
      {
       "cell_index": 3
      }
     ]
    },
    "127bb6ea-c2c0-4166-bc0b-95d616b4504a": {
     "views": [
      {
       "cell_index": 3
      }
     ]
    },
    "138fadcb-0808-40f2-a043-a0c539afc532": {
     "views": [
      {
       "cell_index": 3
      }
     ]
    },
    "141857de-1ca8-418d-8983-230c2ad8a428": {
     "views": [
      {
       "cell_index": 3
      }
     ]
    },
    "14eb6a0e-728f-4270-9777-6ef6ab584895": {
     "views": [
      {
       "cell_index": 3
      }
     ]
    },
    "151f4cb5-ca15-4000-84d4-76ace486b2ce": {
     "views": [
      {
       "cell_index": 3
      }
     ]
    },
    "16b7ed5d-d405-48f6-aec6-1b71e2bab1dc": {
     "views": [
      {
       "cell_index": 3
      }
     ]
    },
    "172623dd-c73a-4e95-a9ad-72e830dfd4c7": {
     "views": [
      {
       "cell_index": 3
      }
     ]
    },
    "19a0749a-3de0-4da3-a515-5385966bb04a": {
     "views": [
      {
       "cell_index": 3
      }
     ]
    },
    "1c3018dd-1dbe-410d-825f-25598acdbe64": {
     "views": [
      {
       "cell_index": 3
      }
     ]
    },
    "1c80679f-314c-425f-a2ea-7dd7a9a7b70c": {
     "views": [
      {
       "cell_index": 3
      }
     ]
    },
    "1c9f47a4-2e8a-483e-9cb3-004e7733c90a": {
     "views": [
      {
       "cell_index": 3
      }
     ]
    },
    "1f95b90f-acaa-4a7a-ba7c-fdf4ff7a7ce5": {
     "views": [
      {
       "cell_index": 3
      }
     ]
    },
    "247fc278-6af0-47b6-a65f-d7cf769bbfc5": {
     "views": [
      {
       "cell_index": 3
      }
     ]
    },
    "24b02ddb-1d70-4a22-a8c9-783c03c6d966": {
     "views": [
      {
       "cell_index": 3
      }
     ]
    },
    "288052b8-c393-461e-9043-28c12101b16b": {
     "views": [
      {
       "cell_index": 3
      }
     ]
    },
    "29484ab7-a71a-45c2-8d6e-03fce7226692": {
     "views": [
      {
       "cell_index": 3
      }
     ]
    },
    "2c8a1331-d6ec-45ef-8e83-da6c613cf993": {
     "views": [
      {
       "cell_index": 3
      }
     ]
    },
    "2e81db45-40ce-4e25-9375-9b3661064eb4": {
     "views": [
      {
       "cell_index": 3
      }
     ]
    },
    "30ca3d9b-40ef-4793-b63d-938a530b6a46": {
     "views": [
      {
       "cell_index": 3
      }
     ]
    },
    "31a46dcb-8492-438b-8b06-892f3316d139": {
     "views": [
      {
       "cell_index": 3
      }
     ]
    },
    "3673d6db-b777-4ac3-bff8-a5b261d189d7": {
     "views": [
      {
       "cell_index": 3
      }
     ]
    },
    "3799e53d-3e38-4d03-b41c-c48c0d819be7": {
     "views": [
      {
       "cell_index": 3
      }
     ]
    },
    "3994fbc9-ea10-49b2-bbff-1533b51e6ba0": {
     "views": [
      {
       "cell_index": 3
      }
     ]
    },
    "39f1406e-b63c-4ae3-9238-0a58ff34ec2f": {
     "views": [
      {
       "cell_index": 3
      }
     ]
    },
    "3a46c7be-2b3c-4e1b-8855-0479171b7a0d": {
     "views": [
      {
       "cell_index": 3
      }
     ]
    },
    "3cc3380f-bb8d-41fe-b4f3-ac54c6237b18": {
     "views": [
      {
       "cell_index": 3
      }
     ]
    },
    "440d77c2-eccd-496f-8464-08fb6ad2364a": {
     "views": [
      {
       "cell_index": 3
      }
     ]
    },
    "4c92213b-92ca-435c-9da2-8446b2e03a7f": {
     "views": [
      {
       "cell_index": 3
      }
     ]
    },
    "4cc8b936-2d6c-493a-85c4-44f0956dac81": {
     "views": [
      {
       "cell_index": 3
      }
     ]
    },
    "4deda5c6-b364-4252-aef5-740ec44d6207": {
     "views": [
      {
       "cell_index": 3
      }
     ]
    },
    "4df3d55d-8fca-4166-b1df-aac0bb77beab": {
     "views": [
      {
       "cell_index": 3
      }
     ]
    },
    "5130f2f4-533c-4a85-a681-f8ab69bf00ce": {
     "views": [
      {
       "cell_index": 3
      }
     ]
    },
    "529e268a-5c16-4794-ab34-8b824c41add2": {
     "views": [
      {
       "cell_index": 3
      }
     ]
    },
    "52a6b4fe-0d89-48ae-95ba-8104974336e7": {
     "views": [
      {
       "cell_index": 3
      }
     ]
    },
    "53b3a7ea-ed82-4470-83b7-8e8fb1ebc5d3": {
     "views": [
      {
       "cell_index": 3
      }
     ]
    },
    "5557492d-5a98-47d6-8459-e953b4f8b6a9": {
     "views": [
      {
       "cell_index": 3
      }
     ]
    },
    "5a39e66a-6102-41cb-b70d-d632a070e097": {
     "views": [
      {
       "cell_index": 3
      }
     ]
    },
    "5b618338-bc72-41b4-903d-9ea461221a5a": {
     "views": [
      {
       "cell_index": 3
      }
     ]
    },
    "5d9d6a6d-dd13-48e6-a3df-d03ec0927e80": {
     "views": [
      {
       "cell_index": 3
      }
     ]
    },
    "5dd149c5-445a-4e9d-a936-9e2b1249a626": {
     "views": [
      {
       "cell_index": 3
      }
     ]
    },
    "5dec8beb-2251-4618-a8ef-cd166c7df3ab": {
     "views": [
      {
       "cell_index": 3
      }
     ]
    },
    "61b5f0c1-70f9-45e1-a11b-e154b43d2aac": {
     "views": [
      {
       "cell_index": 3
      }
     ]
    },
    "645bcde1-6422-4d69-8a4d-ed30eb3d73b6": {
     "views": [
      {
       "cell_index": 3
      }
     ]
    },
    "6494a45c-6978-48f2-b878-9f7656644143": {
     "views": [
      {
       "cell_index": 3
      }
     ]
    },
    "649baaad-2454-4315-a077-18d1488bddc2": {
     "views": [
      {
       "cell_index": 3
      }
     ]
    },
    "64ba1cf1-fbaa-438e-9e51-38340129a7ae": {
     "views": [
      {
       "cell_index": 3
      }
     ]
    },
    "6827a074-6add-412c-a094-ebea0a222665": {
     "views": [
      {
       "cell_index": 3
      }
     ]
    },
    "68c7c442-587e-4974-8e1b-5612bc12ccb2": {
     "views": [
      {
       "cell_index": 3
      }
     ]
    },
    "69b59569-5ef8-47f8-af80-acd8a5d993a3": {
     "views": [
      {
       "cell_index": 3
      }
     ]
    },
    "6a21fab4-2fb1-4397-86b3-b88431bc1163": {
     "views": [
      {
       "cell_index": 3
      }
     ]
    },
    "6b61ea12-d7cd-49bb-8eda-a7391a0736fd": {
     "views": [
      {
       "cell_index": 3
      }
     ]
    },
    "6b7cadda-eaa9-4470-bccd-f5b0143aa44f": {
     "views": [
      {
       "cell_index": 3
      }
     ]
    },
    "6c8dfd91-58d6-4957-90e7-5f9a455a6e0d": {
     "views": [
      {
       "cell_index": 3
      }
     ]
    },
    "6f1a9b15-fadf-4394-8eb2-5d6ca1609adf": {
     "views": [
      {
       "cell_index": 3
      }
     ]
    },
    "73ba9d43-8e92-4304-b469-ff16346c1ae8": {
     "views": [
      {
       "cell_index": 3
      }
     ]
    },
    "75e16076-6540-4e38-973d-9e6b3a902dfe": {
     "views": [
      {
       "cell_index": 3
      }
     ]
    },
    "75e28c03-ab11-492c-af7c-078957b2bb79": {
     "views": [
      {
       "cell_index": 3
      }
     ]
    },
    "769e82f8-d60f-4980-846a-d2d3b8b3cdc5": {
     "views": [
      {
       "cell_index": 3
      }
     ]
    },
    "799fc16f-f9b1-4e7f-9105-7fab0ef3b5a6": {
     "views": [
      {
       "cell_index": 3
      }
     ]
    },
    "79b06571-b57e-4862-a9ae-8121de26aa79": {
     "views": [
      {
       "cell_index": 3
      }
     ]
    },
    "79c9d1de-7775-41ac-8a36-9b113de48d02": {
     "views": [
      {
       "cell_index": 3
      }
     ]
    },
    "7aafe600-b9f8-4256-bfbc-2e1d2addc5de": {
     "views": [
      {
       "cell_index": 3
      }
     ]
    },
    "7b88d718-79ea-4754-8747-32d855b64973": {
     "views": [
      {
       "cell_index": 3
      }
     ]
    },
    "7c1640f5-e394-4a2e-b511-7a84767b6857": {
     "views": [
      {
       "cell_index": 3
      }
     ]
    },
    "7cb3c1d2-ac34-43ba-a035-4311280c414d": {
     "views": [
      {
       "cell_index": 3
      }
     ]
    },
    "840eb1e6-47e8-460c-8a42-d741efcba19d": {
     "views": [
      {
       "cell_index": 3
      }
     ]
    },
    "8525aea4-bae7-4b46-aac8-7e16cd8335b3": {
     "views": [
      {
       "cell_index": 3
      }
     ]
    },
    "85e5d380-13cf-47bb-8b8f-f000d104ac63": {
     "views": [
      {
       "cell_index": 3
      }
     ]
    },
    "86a91c87-6c34-42cd-ae30-c6ad009397f2": {
     "views": [
      {
       "cell_index": 3
      }
     ]
    },
    "887e8b13-fabe-4bd3-ab66-162b2c000985": {
     "views": [
      {
       "cell_index": 3
      }
     ]
    },
    "8f322422-aa60-4840-9394-5f6822bccd13": {
     "views": [
      {
       "cell_index": 3
      }
     ]
    },
    "90ed92d5-ddac-4c83-b6c8-6c98a39ff223": {
     "views": [
      {
       "cell_index": 3
      }
     ]
    },
    "92e6bbcc-e76f-45b9-8835-20bd41529057": {
     "views": [
      {
       "cell_index": 3
      }
     ]
    },
    "936e085e-7af2-4625-ac9b-c66bc664d8d7": {
     "views": [
      {
       "cell_index": 3
      }
     ]
    },
    "946d2688-86e9-477c-abcc-48ff888df793": {
     "views": [
      {
       "cell_index": 3
      }
     ]
    },
    "94cf10ad-e026-49d0-af05-30e7154162f1": {
     "views": [
      {
       "cell_index": 3
      }
     ]
    },
    "9720ce50-3948-4d2d-a767-e937c33c67ce": {
     "views": [
      {
       "cell_index": 3
      }
     ]
    },
    "9720d46a-239f-42e7-880b-530c1e22fbd2": {
     "views": [
      {
       "cell_index": 3
      }
     ]
    },
    "98e81d96-2619-4ec4-be37-3601012c3ec0": {
     "views": [
      {
       "cell_index": 3
      }
     ]
    },
    "9990ca9c-9da5-4d3f-86d9-a6af0834c853": {
     "views": [
      {
       "cell_index": 3
      }
     ]
    },
    "9b28ba14-4963-4304-8399-1640c62484df": {
     "views": [
      {
       "cell_index": 3
      }
     ]
    },
    "9bbcb057-8904-4cbb-90ff-41c8c2ca19d6": {
     "views": [
      {
       "cell_index": 3
      }
     ]
    },
    "9bcd44bd-b539-46f6-96ab-9408c4b693b4": {
     "views": [
      {
       "cell_index": 3
      }
     ]
    },
    "9d93d5e9-1344-4a1c-acb1-bf0d22e9edda": {
     "views": [
      {
       "cell_index": 3
      }
     ]
    },
    "a5c87ceb-ef1b-4aa4-81fb-346eb1c84345": {
     "views": [
      {
       "cell_index": 3
      }
     ]
    },
    "a65f380f-a0b0-44d2-afdb-91af423f70d9": {
     "views": [
      {
       "cell_index": 3
      }
     ]
    },
    "a6bcfe7e-fa0d-4745-b3e4-f870d156cf1d": {
     "views": [
      {
       "cell_index": 3
      }
     ]
    },
    "aa7392a3-a1c2-45d7-9a40-96a9967f5b5e": {
     "views": [
      {
       "cell_index": 3
      }
     ]
    },
    "ab1e06c2-9e19-4468-b70e-0d53991a357d": {
     "views": [
      {
       "cell_index": 3
      }
     ]
    },
    "aeccf6da-ac88-4567-9fb2-bee7ac66c86a": {
     "views": [
      {
       "cell_index": 3
      }
     ]
    },
    "b0d15841-4c6e-462c-9a62-a82d4ae3da05": {
     "views": [
      {
       "cell_index": 3
      }
     ]
    },
    "b58e7bb8-6514-4d62-8955-a082cd9ef536": {
     "views": [
      {
       "cell_index": 3
      }
     ]
    },
    "b7b36393-c355-4234-8a8a-714c90d2f0ea": {
     "views": [
      {
       "cell_index": 3
      }
     ]
    },
    "b854406f-7a09-43c3-ac57-ebd6f83a4336": {
     "views": [
      {
       "cell_index": 3
      }
     ]
    },
    "c2428141-2e6d-4056-820b-b3abd003b410": {
     "views": [
      {
       "cell_index": 3
      }
     ]
    },
    "c48894d5-8fcc-4cf8-b3b6-f925dafee221": {
     "views": [
      {
       "cell_index": 3
      }
     ]
    },
    "c64dfc0f-a7e2-4999-8060-db30550cfd7a": {
     "views": [
      {
       "cell_index": 3
      }
     ]
    },
    "c6d14599-792b-4740-b5ee-de363291939a": {
     "views": [
      {
       "cell_index": 3
      }
     ]
    },
    "c6e60e56-f882-46b8-91b6-4313b15a08c5": {
     "views": [
      {
       "cell_index": 3
      }
     ]
    },
    "c6f138bc-4c51-49af-a7a4-db92b008f09a": {
     "views": [
      {
       "cell_index": 3
      }
     ]
    },
    "c8bec670-823d-4256-9451-997da45690a5": {
     "views": [
      {
       "cell_index": 3
      }
     ]
    },
    "c9ecd704-6fa6-443f-82f2-87020a22b031": {
     "views": [
      {
       "cell_index": 3
      }
     ]
    },
    "cc079be9-3b63-430c-b4e4-33e70ac7a13f": {
     "views": [
      {
       "cell_index": 3
      }
     ]
    },
    "cde46840-a36b-4e36-9633-bd7072b5bcd9": {
     "views": [
      {
       "cell_index": 3
      }
     ]
    },
    "d0c0c021-8eb7-44a4-9c85-f90d61df0c25": {
     "views": [
      {
       "cell_index": 3
      }
     ]
    },
    "d21667fa-be7f-4bc8-b2f4-ba640cd6678a": {
     "views": [
      {
       "cell_index": 3
      }
     ]
    },
    "d5223d43-dd88-40c3-9cd0-9fee8ef42a87": {
     "views": [
      {
       "cell_index": 3
      }
     ]
    },
    "d5a723a5-1dc8-4a72-b91c-116d87b978f9": {
     "views": [
      {
       "cell_index": 3
      }
     ]
    },
    "d7a5a057-47e9-413d-9759-dbc4384a3a73": {
     "views": [
      {
       "cell_index": 3
      }
     ]
    },
    "da04b840-173a-4571-ad6c-38d503d9ba91": {
     "views": [
      {
       "cell_index": 3
      }
     ]
    },
    "da936032-8ede-42d7-a51a-590c38889705": {
     "views": [
      {
       "cell_index": 3
      }
     ]
    },
    "daa5a6c6-1d79-4ead-ab33-387bf57f7788": {
     "views": [
      {
       "cell_index": 3
      }
     ]
    },
    "df09a906-531f-4428-a90d-58adc673f8bf": {
     "views": [
      {
       "cell_index": 3
      }
     ]
    },
    "e0420da6-a8e2-42d2-a283-c3201fa334fc": {
     "views": [
      {
       "cell_index": 3
      }
     ]
    },
    "e29b4066-8b36-4706-9db8-4519c3566219": {
     "views": [
      {
       "cell_index": 3
      }
     ]
    },
    "e7b542c5-9aa9-42e5-82a5-496c36eabcca": {
     "views": [
      {
       "cell_index": 3
      }
     ]
    },
    "e8f54842-e7e1-4636-8f11-02ce4b611b9e": {
     "views": [
      {
       "cell_index": 3
      }
     ]
    },
    "eae4de4a-2221-48c4-b409-ee70c9125fa1": {
     "views": [
      {
       "cell_index": 3
      }
     ]
    },
    "eb9ed07e-d299-407a-a2d5-778e0fca4022": {
     "views": [
      {
       "cell_index": 3
      }
     ]
    },
    "ebddacfb-78ab-4e5b-9669-0b854f7b072e": {
     "views": [
      {
       "cell_index": 3
      }
     ]
    },
    "ed643308-8750-4507-8c76-af9835b005c9": {
     "views": [
      {
       "cell_index": 3
      }
     ]
    },
    "ef694774-2f34-4902-b4d7-cab46173721d": {
     "views": [
      {
       "cell_index": 3
      }
     ]
    },
    "f1936c73-5ca6-4f13-bd0c-2517c9f79c08": {
     "views": [
      {
       "cell_index": 3
      }
     ]
    },
    "f1991a0c-5162-4f3e-8320-2801b316cda5": {
     "views": [
      {
       "cell_index": 3
      }
     ]
    },
    "f25c7eed-81dd-45fd-89c2-4e75dbef8844": {
     "views": [
      {
       "cell_index": 3
      }
     ]
    },
    "f41a5949-5b3b-4378-ac38-fe86bbf4e559": {
     "views": [
      {
       "cell_index": 3
      }
     ]
    },
    "f5a3b894-4eef-4107-8462-53a3a692cfbb": {
     "views": [
      {
       "cell_index": 3
      }
     ]
    },
    "f86acbb5-9a51-48cf-90aa-ded13c1725fd": {
     "views": [
      {
       "cell_index": 3
      }
     ]
    },
    "fa29f314-ed3c-4457-b41f-887aad951bef": {
     "views": [
      {
       "cell_index": 3
      }
     ]
    },
    "fb0a2743-e72f-4f72-b610-49b4cc67a0d7": {
     "views": [
      {
       "cell_index": 3
      }
     ]
    },
    "fe583753-8bd4-40c8-a6c2-90ad2eff758b": {
     "views": [
      {
       "cell_index": 3
      }
     ]
    }
   },
   "version": "1.2.0"
  }
 },
 "nbformat": 4,
 "nbformat_minor": 1
}
